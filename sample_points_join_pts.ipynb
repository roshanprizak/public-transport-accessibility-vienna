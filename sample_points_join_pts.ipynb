{
 "cells": [
  {
   "cell_type": "code",
   "execution_count": 1,
   "metadata": {},
   "outputs": [],
   "source": [
    "import pandas as pd\n",
    "import os\n",
    "from haversine import haversine_vector, Unit, haversine\n",
    "import random\n",
    "import warnings\n",
    "from math import radians\n",
    "warnings.filterwarnings(\"ignore\")"
   ]
  },
  {
   "cell_type": "code",
   "execution_count": 5,
   "metadata": {},
   "outputs": [
    {
     "name": "stdout",
     "output_type": "stream",
     "text": [
      "1\n",
      "2\n",
      "3\n",
      "4\n",
      "5\n",
      "6\n",
      "7\n",
      "8\n",
      "9\n",
      "10\n",
      "11\n",
      "12\n",
      "13\n",
      "14\n",
      "15\n",
      "16\n",
      "17\n",
      "18\n",
      "19\n",
      "20\n",
      "21\n",
      "22\n",
      "23\n"
     ]
    }
   ],
   "source": [
    "def downsample_coordinates(df, distance_threshold):\n",
    "    coordinates = []\n",
    "\n",
    "    # Extract latitude and longitude columns from the DataFrame\n",
    "    latitudes = df['address_lat'].tolist()\n",
    "    longitudes = df['address_lon'].tolist()\n",
    "\n",
    "    # Convert coordinates from degrees to radians\n",
    "    coordinates = [(radians(lat), radians(lon)) for lat, lon in zip(latitudes, longitudes)]\n",
    "\n",
    "    # Perform downsampling\n",
    "    selected_coordinates = [coordinates[0]]  # Start with the first coordinate\n",
    "    selected_indices = [0]\n",
    "    for i, coord in enumerate(coordinates):\n",
    "        # Check distance to previously selected coordinates\n",
    "        distances = [haversine(coord, selected_coord, unit=Unit.METERS)\n",
    "                     for selected_coord in selected_coordinates]\n",
    "        if all(distance > distance_threshold for distance in distances):\n",
    "            selected_coordinates.append(coord)\n",
    "            selected_indices.append(i)\n",
    "\n",
    "    return selected_coordinates, selected_indices\n",
    "\n",
    "if not os.path.exists(\"closest_pt_downsampled\"):\n",
    "    os.makedirs(\"closest_pt_downsampled\")\n",
    "    \n",
    "# Assuming you have a list of district names and their corresponding coordinates\n",
    "districts = range(1, 24)\n",
    "pt_types = range(4)\n",
    "\n",
    "distance_threshold = 1\n",
    "for district in districts:\n",
    "    print(district)\n",
    "    df_join = pd.DataFrame()\n",
    "    df_downsampled_join = pd.DataFrame()\n",
    "    for pt_type in pt_types:\n",
    "        df_join = pd.concat([df_join, pd.read_csv(f\"closest_pt/closest_pt_{pt_type}_{district}.csv\")])\n",
    "        if os.path.exists(f\"closest_pt_downsampled/closest_pt_{pt_type}_{district}.csv\"):\n",
    "            df_downsampled_join = pd.concat([df_downsampled_join, pd.read_csv(f\"closest_pt_downsampled/closest_pt_{pt_type}_{district}.csv\")])\n",
    "            continue\n",
    "        df = pd.read_csv(f\"closest_pt/closest_pt_{pt_type}_{district}.csv\")\n",
    "\n",
    "        selected_coordinates, selected_indices = downsample_coordinates(df, distance_threshold)\n",
    "        df_downsampled = df.loc[selected_indices,:]\n",
    "        df_downsampled.to_csv(f\"closest_pt_downsampled/closest_pt_{pt_type}_{district}.csv\")\n",
    "        \n",
    "    df_join.drop(['pt_name', 'pt_lon', 'pt_lat', 'shortest_distance_pt'], axis=1, inplace=True)\n",
    "    df_downsampled_join.drop(['pt_name', 'pt_lon', 'pt_lat', 'shortest_distance_pt'], axis=1, inplace=True)\n",
    "    \n",
    "    df_join.to_csv(f\"closest_pt/closest_pt_{district}.csv\")\n",
    "    df_downsampled_join.to_csv(f\"closest_pt_downsampled/closest_pt_{district}.csv\")\n",
    "    "
   ]
  }
 ],
 "metadata": {
  "kernelspec": {
   "display_name": "transport",
   "language": "python",
   "name": "python3"
  },
  "language_info": {
   "codemirror_mode": {
    "name": "ipython",
    "version": 3
   },
   "file_extension": ".py",
   "mimetype": "text/x-python",
   "name": "python",
   "nbconvert_exporter": "python",
   "pygments_lexer": "ipython3",
   "version": "3.11.0"
  },
  "orig_nbformat": 4
 },
 "nbformat": 4,
 "nbformat_minor": 2
}
