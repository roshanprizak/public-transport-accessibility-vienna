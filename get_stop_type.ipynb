{
 "cells": [
  {
   "cell_type": "code",
   "execution_count": null,
   "metadata": {},
   "outputs": [],
   "source": [
    "import csv\n",
    "import pandas as pd\n",
    "\n",
    "df = pd.DataFrame()\n",
    "# Load stops.txt, routes.txt, and stop_times.txt\n",
    "with open('gtfs/stops.txt', 'r', encoding='utf-8') as stops_file, \\\n",
    "     open('gtfs/routes.txt', 'r', encoding='utf-8') as routes_file, \\\n",
    "     open('gtfs/stop_times.txt', 'r', encoding='utf-8') as stop_times_file:\n",
    "    stops_reader = csv.DictReader(stops_file)\n",
    "    routes_reader = csv.DictReader(routes_file)\n",
    "    stop_times_reader = csv.DictReader(stop_times_file)\n",
    "\n",
    "    # Create a mapping of stops to routes\n",
    "    stop_routes = {}\n",
    "\n",
    "    # Parse routes.txt to get route types\n",
    "    route_types = {}\n",
    "    for row in routes_reader:\n",
    "        route_id = row['\\ufeffroute_id']\n",
    "        route_type = row['route_type']\n",
    "        route_types[route_id] = route_type\n",
    "\n",
    "    # Parse stop_times.txt to record routes that stop at each stop\n",
    "    for row in stop_times_reader:\n",
    "        trip_id = row['\\ufefftrip_id']\n",
    "        stop_id = row['stop_id']\n",
    "\n",
    "        if stop_id not in stop_routes:\n",
    "            stop_routes[stop_id] = []\n",
    "\n",
    "        for route_id in route_types:\n",
    "            if route_id in trip_id:\n",
    "                if route_id not in stop_routes[stop_id]:\n",
    "                    stop_routes[stop_id].append(route_id)\n",
    "                break\n",
    "\n",
    "    # Associate route types with stops\n",
    "    stop_types = {}\n",
    "    for stop_id, route_ids in stop_routes.items():\n",
    "        types = []\n",
    "        for route_id in route_ids:\n",
    "            route_type = route_types.get(route_id)\n",
    "            if \"N\" in route_id: # Night bus\n",
    "                route_type = '2'\n",
    "            if route_type and route_type not in types:\n",
    "                types.append(route_type)\n",
    "\n",
    "        stop_types[stop_id] = types\n",
    "\n",
    "    # Print the types of transport served at each stop\n",
    "    for row in stops_reader:\n",
    "        stop_id = row['stop_id']\n",
    "        stop_name = row['stop_name']\n",
    "        types = stop_types.get(stop_id)\n",
    "        if types:\n",
    "            print(f\"{stop_name}: {', '.join(types)}\")\n",
    "        else:\n",
    "            print(f\"{stop_name}: No transport types found.\")\n",
    "        df = df.append({'stop_id' : stop_id, 'stop_type' : ', '.join(types)}, ignore_index = True)\n"
   ]
  },
  {
   "cell_type": "code",
   "execution_count": 54,
   "metadata": {},
   "outputs": [],
   "source": [
    "df.to_csv(\"stop_types.txt\", index=False)"
   ]
  }
 ],
 "metadata": {
  "kernelspec": {
   "display_name": "transport",
   "language": "python",
   "name": "python3"
  },
  "language_info": {
   "codemirror_mode": {
    "name": "ipython",
    "version": 3
   },
   "file_extension": ".py",
   "mimetype": "text/x-python",
   "name": "python",
   "nbconvert_exporter": "python",
   "pygments_lexer": "ipython3",
   "version": "3.11.0"
  },
  "orig_nbformat": 4
 },
 "nbformat": 4,
 "nbformat_minor": 2
}
